{
  "nbformat": 4,
  "nbformat_minor": 0,
  "metadata": {
    "colab": {
      "name": "7_앙상블 학습 실습.ipynb",
      "provenance": [],
      "collapsed_sections": [],
      "authorship_tag": "ABX9TyN7o+Jro0rm3ohzpApTzv+m",
      "include_colab_link": true
    },
    "kernelspec": {
      "name": "python3",
      "display_name": "Python 3"
    }
  },
  "cells": [
    {
      "cell_type": "markdown",
      "metadata": {
        "id": "view-in-github",
        "colab_type": "text"
      },
      "source": [
        "<a href=\"https://colab.research.google.com/github/hajihye123/MachineLearning_edwith/blob/main/7_%EC%95%99%EC%83%81%EB%B8%94_%ED%95%99%EC%8A%B5_%EC%8B%A4%EC%8A%B5.ipynb\" target=\"_parent\"><img src=\"https://colab.research.google.com/assets/colab-badge.svg\" alt=\"Open In Colab\"/></a>"
      ]
    },
    {
      "cell_type": "code",
      "metadata": {
        "id": "6yzt9-7yksJw"
      },
      "source": [
        "from sklearn.datasets import load_iris, load_wine, load_boston, load_diabetes\r\n",
        "from sklearn.pipeline import make_pipeline\r\n",
        "from sklearn.model_selection import cross_validate, cross_val_score"
      ],
      "execution_count": 27,
      "outputs": []
    },
    {
      "cell_type": "markdown",
      "metadata": {
        "id": "wB7nVxXJrPkF"
      },
      "source": [
        "* Cross-Validation\r\n",
        "  * 과적합을  피하기 위해서 사용\r\n",
        "  * 훈련 데이터 전체를 한 번에 사용하지 않고, 일부를 남겨두고 테스트에 활용하는 것, 교차 검증\r\n",
        "  * 큰 값이 좋다\r\n",
        "* cross_val_score\r\n",
        "  * 'cross_val_score(학습에 사용될 모델, X, Y, cv=반복횟수)'\r\n",
        "  * cross_val_score 에선 큰 값이 좋은 결과를 나타냄\r\n",
        "  * 회귀 모델에선 MSE를 얻기 위해 주로 'neg_mean_squared_error' 값을 사용(0으로 갈수록 좋음)"
      ]
    },
    {
      "cell_type": "code",
      "metadata": {
        "id": "KAy1G1fzk60O"
      },
      "source": [
        "iris = load_iris()\r\n",
        "wine = load_wine()\r\n",
        "boston = load_boston()\r\n",
        "diabetes = load_diabetes()"
      ],
      "execution_count": 28,
      "outputs": []
    },
    {
      "cell_type": "markdown",
      "metadata": {
        "id": "uui1GqSPkRvY"
      },
      "source": [
        "# 투표기반 분류와 회귀"
      ]
    },
    {
      "cell_type": "code",
      "metadata": {
        "id": "B_ZicYv2kWb2"
      },
      "source": [
        "from sklearn.ensemble import VotingClassifier, VotingRegressor"
      ],
      "execution_count": 29,
      "outputs": []
    },
    {
      "cell_type": "markdown",
      "metadata": {
        "id": "oHQE8XeklJ9m"
      },
      "source": [
        "## 투표 기반 분류"
      ]
    },
    {
      "cell_type": "code",
      "metadata": {
        "id": "tF-W4rBPm3BH"
      },
      "source": [
        "from sklearn.svm import SVC\r\n",
        "from sklearn.naive_bayes import GaussianNB\r\n",
        "from sklearn.linear_model import SGDClassifier"
      ],
      "execution_count": 30,
      "outputs": []
    },
    {
      "cell_type": "code",
      "metadata": {
        "id": "P13m3TJvnAQY"
      },
      "source": [
        "model1 = SVC()\r\n",
        "model2 = GaussianNB()\r\n",
        "model3 = SGDClassifier()"
      ],
      "execution_count": 31,
      "outputs": []
    },
    {
      "cell_type": "code",
      "metadata": {
        "id": "P8jlgfjtnEt0"
      },
      "source": [
        "vote_model = VotingClassifier(\r\n",
        "    estimators=[('svc', model1), ('guassian', model2), ('sgd', model3)]\r\n",
        ")"
      ],
      "execution_count": 32,
      "outputs": []
    },
    {
      "cell_type": "code",
      "metadata": {
        "colab": {
          "base_uri": "https://localhost:8080/"
        },
        "id": "6URkdPVpnhn9",
        "outputId": "c0daab4e-dd17-4d4a-8de7-a8b58a328915"
      },
      "source": [
        "for model in (model1, model2, model3, vote_model):\r\n",
        "  model_name = str(type(model)).split('.')[-1][:-2]\r\n",
        "  scores = cross_val_score(model, iris.data, iris.target, cv=5)\r\n",
        "  print(f'{model_name}, Accuracy: {scores.mean()}')"
      ],
      "execution_count": 33,
      "outputs": [
        {
          "output_type": "stream",
          "text": [
            "SVC, Accuracy: 0.9666666666666666\n",
            "GaussianNB, Accuracy: 0.9533333333333334\n",
            "SGDClassifier, Accuracy: 0.78\n",
            "VotingClassifier, Accuracy: 0.9666666666666668\n"
          ],
          "name": "stdout"
        }
      ]
    },
    {
      "cell_type": "markdown",
      "metadata": {
        "id": "epwD1W5coI24"
      },
      "source": [
        "## 투표 기반 회귀"
      ]
    },
    {
      "cell_type": "code",
      "metadata": {
        "id": "wn0-_11ppNp4"
      },
      "source": [
        "from sklearn.svm import SVR\r\n",
        "from sklearn.linear_model import SGDRegressor, LinearRegression"
      ],
      "execution_count": 34,
      "outputs": []
    },
    {
      "cell_type": "code",
      "metadata": {
        "id": "LY8nTuUgpeuf"
      },
      "source": [
        "model1 = SVR()\r\n",
        "model2 = SGDRegressor()\r\n",
        "model3 = LinearRegression()"
      ],
      "execution_count": 35,
      "outputs": []
    },
    {
      "cell_type": "code",
      "metadata": {
        "id": "5eLjuworpUga"
      },
      "source": [
        "vote_model = VotingRegressor(\r\n",
        "    estimators = [('svr', model1), ('sgd', model2), ('linear', model3)]\r\n",
        ")"
      ],
      "execution_count": 36,
      "outputs": []
    },
    {
      "cell_type": "code",
      "metadata": {
        "colab": {
          "base_uri": "https://localhost:8080/"
        },
        "id": "dOk35sIbplmH",
        "outputId": "19792194-371e-442f-a3d3-a88ae631dc36"
      },
      "source": [
        "for model in (model1, model2, model3, vote_model):\r\n",
        "  model_name = str(type(model)).split('.')[-1][:-2]\r\n",
        "  scores = cross_val_score(model, boston.data, boston.target, scoring='neg_mean_squared_error', cv=5)\r\n",
        "  print(f'{model_name}, Accuracy: {scores.mean()}') # 왜 음수..? # 0에 가까우면 좋음"
      ],
      "execution_count": 37,
      "outputs": [
        {
          "output_type": "stream",
          "text": [
            "SVR, Accuracy: -71.85800739156483\n",
            "SGDRegressor, Accuracy: -6.1833888869471455e+28\n",
            "LinearRegression, Accuracy: -37.13180746769903\n",
            "VotingRegressor, Accuracy: -9.194327856039402e+26\n"
          ],
          "name": "stdout"
        }
      ]
    },
    {
      "cell_type": "markdown",
      "metadata": {
        "id": "sNE5IGqIkT92"
      },
      "source": [
        "# 배깅"
      ]
    },
    {
      "cell_type": "code",
      "metadata": {
        "id": "Vzh7nfEXs9dG"
      },
      "source": [
        "from sklearn.ensemble import BaggingClassifier, BaggingRegressor"
      ],
      "execution_count": 38,
      "outputs": []
    },
    {
      "cell_type": "markdown",
      "metadata": {
        "id": "bF2WStI2s2U0"
      },
      "source": [
        "## 배깅을 사용한 분류"
      ]
    },
    {
      "cell_type": "code",
      "metadata": {
        "colab": {
          "base_uri": "https://localhost:8080/"
        },
        "id": "Sj1Y7FVxtCTi",
        "outputId": "a6e9b3a0-38f8-4b92-911d-8b34dd53ee41"
      },
      "source": [
        "from sklearn.preprocessing import StandardScaler\r\n",
        "\r\n",
        "base_model = make_pipeline(\r\n",
        "    StandardScaler(),\r\n",
        "    SVC()\r\n",
        ")\r\n",
        "\r\n",
        "bagging_model = BaggingClassifier(base_model, n_estimators=10, max_samples=0.5, max_features=0.5)\r\n",
        "\r\n",
        "base_cross_val = cross_validate(estimator=base_model, X=wine.data, y=wine.target, cv=5)\r\n",
        "print(f\"{base_cross_val['test_score'].mean()}\")\r\n",
        "\r\n",
        "bagging_cross_val = cross_validate(estimator=bagging_model, X=wine.data, y=wine.target, cv=5)\r\n",
        "print(f\"{bagging_cross_val['test_score'].mean()}\")"
      ],
      "execution_count": 44,
      "outputs": [
        {
          "output_type": "stream",
          "text": [
            "0.9833333333333334\n",
            "0.9665079365079364\n"
          ],
          "name": "stdout"
        }
      ]
    },
    {
      "cell_type": "markdown",
      "metadata": {
        "id": "9cpgL9RVs5M3"
      },
      "source": [
        "## 배깅을 사용한 회귀"
      ]
    },
    {
      "cell_type": "code",
      "metadata": {
        "colab": {
          "base_uri": "https://localhost:8080/"
        },
        "id": "FRuAhFNiW_Or",
        "outputId": "92c20b98-5cb2-4504-e323-b82c089b9d31"
      },
      "source": [
        "from sklearn.preprocessing import StandardScaler\r\n",
        "\r\n",
        "base_model = make_pipeline(\r\n",
        "    StandardScaler(),\r\n",
        "    SVR()\r\n",
        ")\r\n",
        "\r\n",
        "bagging_model = BaggingRegressor(base_model, n_estimators=10, max_samples=0.5, max_features=0.5)\r\n",
        "\r\n",
        "base_cross_val = cross_validate(estimator=base_model, X=boston.data, y=boston.target, cv=5)\r\n",
        "print(f\"{base_cross_val['test_score'].mean()}\")\r\n",
        "\r\n",
        "bagging_cross_val = cross_validate(estimator=bagging_model, X=boston.data, y=boston.target, cv=5)\r\n",
        "print(f\"{bagging_cross_val['test_score'].mean()}\")"
      ],
      "execution_count": 45,
      "outputs": [
        {
          "output_type": "stream",
          "text": [
            "0.17631266230186618\n",
            "0.16482351909806708\n"
          ],
          "name": "stdout"
        }
      ]
    },
    {
      "cell_type": "markdown",
      "metadata": {
        "id": "f4wl_7xrkUxw"
      },
      "source": [
        "# AdaBoost"
      ]
    },
    {
      "cell_type": "code",
      "metadata": {
        "id": "7ulmDpDBkW-D"
      },
      "source": [
        "from sklearn.ensemble import AdaBoostClassifier, AdaBoostRegressor"
      ],
      "execution_count": 46,
      "outputs": []
    },
    {
      "cell_type": "markdown",
      "metadata": {
        "id": "Osisr62iaYIP"
      },
      "source": [
        "## AdaBoost 분류"
      ]
    },
    {
      "cell_type": "code",
      "metadata": {
        "id": "LSD5sSqVaYXo"
      },
      "source": [
        "model = make_pipeline(\r\n",
        "    StandardScaler(),\r\n",
        "    AdaBoostClassifier()\r\n",
        ")"
      ],
      "execution_count": 47,
      "outputs": []
    },
    {
      "cell_type": "code",
      "metadata": {
        "colab": {
          "base_uri": "https://localhost:8080/"
        },
        "id": "YjjCs1b7dJcx",
        "outputId": "c3f22006-b087-43ac-a6f5-e2200560f75e"
      },
      "source": [
        "cross_val = cross_validate(estimator=model, X=iris.data, y=iris.target, cv=5)\r\n",
        "print(f\"{cross_val['test_score'].mean()}\")"
      ],
      "execution_count": 48,
      "outputs": [
        {
          "output_type": "stream",
          "text": [
            "0.9466666666666667\n"
          ],
          "name": "stdout"
        }
      ]
    },
    {
      "cell_type": "code",
      "metadata": {
        "colab": {
          "base_uri": "https://localhost:8080/"
        },
        "id": "CyWewmx1duOT",
        "outputId": "cb5f6e3d-9d2e-4ece-bdf9-4c43afc4550e"
      },
      "source": [
        "cross_val = cross_validate(estimator=model, X=wine.data, y=wine.target, cv=5)\r\n",
        "print(f\"{cross_val['test_score'].mean()}\")"
      ],
      "execution_count": 49,
      "outputs": [
        {
          "output_type": "stream",
          "text": [
            "0.8085714285714285\n"
          ],
          "name": "stdout"
        }
      ]
    },
    {
      "cell_type": "markdown",
      "metadata": {
        "id": "8OHrt8tGaYfB"
      },
      "source": [
        "## Adaboost 회귀"
      ]
    },
    {
      "cell_type": "code",
      "metadata": {
        "id": "W8D3KflXaYmU"
      },
      "source": [
        "model = make_pipeline(\r\n",
        "    StandardScaler(),\r\n",
        "    AdaBoostRegressor()\r\n",
        ")"
      ],
      "execution_count": 51,
      "outputs": []
    },
    {
      "cell_type": "code",
      "metadata": {
        "colab": {
          "base_uri": "https://localhost:8080/"
        },
        "id": "KjYf7fjLd2Gc",
        "outputId": "1b1aa8ca-9711-49cd-9e49-dab401c8931d"
      },
      "source": [
        "cross_val = cross_validate(estimator=model, X=boston.data, y=boston.target, cv=5)\r\n",
        "print(f\"{cross_val['test_score'].mean()}\")"
      ],
      "execution_count": 52,
      "outputs": [
        {
          "output_type": "stream",
          "text": [
            "0.5932095461428804\n"
          ],
          "name": "stdout"
        }
      ]
    }
  ]
}