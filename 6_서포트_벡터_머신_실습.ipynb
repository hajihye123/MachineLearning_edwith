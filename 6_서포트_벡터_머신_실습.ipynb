{
  "nbformat": 4,
  "nbformat_minor": 0,
  "metadata": {
    "colab": {
      "name": "6_서포트 벡터 머신 실습.ipynb",
      "provenance": [],
      "collapsed_sections": [],
      "authorship_tag": "ABX9TyNMj9RB67xX6NwKh4iOW2Av",
      "include_colab_link": true
    },
    "kernelspec": {
      "name": "python3",
      "display_name": "Python 3"
    }
  },
  "cells": [
    {
      "cell_type": "markdown",
      "metadata": {
        "id": "view-in-github",
        "colab_type": "text"
      },
      "source": [
        "<a href=\"https://colab.research.google.com/github/hajihye123/MachineLearning_edwith/blob/main/6_%EC%84%9C%ED%8F%AC%ED%8A%B8_%EB%B2%A1%ED%84%B0_%EB%A8%B8%EC%8B%A0_%EC%8B%A4%EC%8A%B5.ipynb\" target=\"_parent\"><img src=\"https://colab.research.google.com/assets/colab-badge.svg\" alt=\"Open In Colab\"/></a>"
      ]
    },
    {
      "cell_type": "code",
      "metadata": {
        "id": "9dqEk4g_d-ch"
      },
      "source": [
        "from sklearn.datasets import load_breast_cancer, load_boston\r\n",
        "from sklearn.model_selection import train_test_split\r\n",
        "from sklearn.svm import SVC, SVR"
      ],
      "execution_count": 2,
      "outputs": []
    },
    {
      "cell_type": "markdown",
      "metadata": {
        "id": "dOTs1hVZajmf"
      },
      "source": [
        "#SVM을 사용한 분류(SVC)"
      ]
    },
    {
      "cell_type": "code",
      "metadata": {
        "id": "09TLJZNeao06"
      },
      "source": [
        "# 데이터를 불러옴\r\n",
        "X, y = load_breast_cancer(return_X_y=True)"
      ],
      "execution_count": 7,
      "outputs": []
    },
    {
      "cell_type": "code",
      "metadata": {
        "id": "ZUm1WetyePsP"
      },
      "source": [
        "# 데이터를 분할\r\n",
        "X_train, X_test, y_train, y_test = train_test_split(X, y, random_state=100)"
      ],
      "execution_count": 9,
      "outputs": []
    },
    {
      "cell_type": "code",
      "metadata": {
        "id": "dOm8D65qeUod"
      },
      "source": [
        "# 모델을 선택\r\n",
        "model = SVC()"
      ],
      "execution_count": 10,
      "outputs": []
    },
    {
      "cell_type": "code",
      "metadata": {
        "colab": {
          "base_uri": "https://localhost:8080/"
        },
        "id": "Z8D4A4j_eZhY",
        "outputId": "b35e0571-4437-44b5-e0b8-921eac1d2525"
      },
      "source": [
        "# 학습\r\n",
        "model.fit(X_train, y_train)"
      ],
      "execution_count": 11,
      "outputs": [
        {
          "output_type": "execute_result",
          "data": {
            "text/plain": [
              "SVC(C=1.0, break_ties=False, cache_size=200, class_weight=None, coef0=0.0,\n",
              "    decision_function_shape='ovr', degree=3, gamma='scale', kernel='rbf',\n",
              "    max_iter=-1, probability=False, random_state=None, shrinking=True,\n",
              "    tol=0.001, verbose=False)"
            ]
          },
          "metadata": {
            "tags": []
          },
          "execution_count": 11
        }
      ]
    },
    {
      "cell_type": "code",
      "metadata": {
        "colab": {
          "base_uri": "https://localhost:8080/"
        },
        "id": "IIWBFZoOeah8",
        "outputId": "a457b7ff-4f00-460d-e150-cd7334ba63cd"
      },
      "source": [
        "# 학습 및 평가 데이터 점수\r\n",
        "print(f'학습 데이터 점수 : {model.score(X_train, y_train)}')\r\n",
        "print(f'평가 데이터 점수 : {model.score(X_test, y_test)}')"
      ],
      "execution_count": 12,
      "outputs": [
        {
          "output_type": "stream",
          "text": [
            "학습 데이터 점수 : 0.8943661971830986\n",
            "평가 데이터 점수 : 0.9440559440559441\n"
          ],
          "name": "stdout"
        }
      ]
    },
    {
      "cell_type": "markdown",
      "metadata": {
        "id": "IAzQ1N44apBt"
      },
      "source": [
        "#SVM을 사용한 회귀(SVR)"
      ]
    },
    {
      "cell_type": "code",
      "metadata": {
        "id": "o-BMuCvwarZ_",
        "colab": {
          "base_uri": "https://localhost:8080/"
        },
        "outputId": "7294ba4d-667a-446d-d672-6fd4907dda8d"
      },
      "source": [
        "X, y = load_boston(return_X_y=True)\r\n",
        "X_train, X_test, y_train, y_test = train_test_split(X, y, random_state=100)\r\n",
        "\r\n",
        "model = SVR()\r\n",
        "model.fit(X_train, y_train)\r\n",
        "print(f'학습 데이터 점수 : {model.score(X_train, y_train)}')\r\n",
        "print(f'평가 데이터 점수 : {model.score(X_test, y_test)}')"
      ],
      "execution_count": 16,
      "outputs": [
        {
          "output_type": "stream",
          "text": [
            "학습 데이터 점수 : 0.2149950338383958\n",
            "평가 데이터 점수 : 0.2060097280934967\n"
          ],
          "name": "stdout"
        }
      ]
    },
    {
      "cell_type": "markdown",
      "metadata": {
        "id": "SSVGrk4earxa"
      },
      "source": [
        "#커널 기법을 사용한 분류(SVC)"
      ]
    },
    {
      "cell_type": "code",
      "metadata": {
        "id": "WtoaSEHIauX_",
        "colab": {
          "base_uri": "https://localhost:8080/"
        },
        "outputId": "855c0cae-ec0f-4a2b-ede2-9c8bacef7dd4"
      },
      "source": [
        "X, y = load_breast_cancer(return_X_y=True)\r\n",
        "X_train, X_test, y_train, y_test = train_test_split(X, y, random_state=100)\r\n",
        "\r\n",
        "model = SVC(kernel='linear')\r\n",
        "model.fit(X_train, y_train)\r\n",
        "print(f'Kernel(linear) 학습 데이터 점수 : {model.score(X_train, y_train)}')\r\n",
        "print(f'Kernel(linear) 평가 데이터 점수 : {model.score(X_test, y_test)}')\r\n",
        "\r\n",
        "model = SVC(kernel='poly')\r\n",
        "model.fit(X_train, y_train)\r\n",
        "print(f'Kernel(poly) 학습 데이터 점수 : {model.score(X_train, y_train)}')\r\n",
        "print(f'Kernel(poly) 평가 데이터 점수 : {model.score(X_test, y_test)}')\r\n",
        "\r\n",
        "model = SVC(kernel='rbf')\r\n",
        "model.fit(X_train, y_train)\r\n",
        "print(f'Kernel(rbf) 학습 데이터 점수 : {model.score(X_train, y_train)}')\r\n",
        "print(f'Kernel(rbf) 평가 데이터 점수 : {model.score(X_test, y_test)}')"
      ],
      "execution_count": 20,
      "outputs": [
        {
          "output_type": "stream",
          "text": [
            "Kernel(linear) 학습 데이터 점수 : 0.9624413145539906\n",
            "Kernel(linear) 평가 데이터 점수 : 0.958041958041958\n",
            "Kernel(poly) 학습 데이터 점수 : 0.8943661971830986\n",
            "Kernel(poly) 평가 데이터 점수 : 0.9440559440559441\n",
            "Kernel(rbf) 학습 데이터 점수 : 0.8943661971830986\n",
            "Kernel(rbf) 평가 데이터 점수 : 0.9440559440559441\n"
          ],
          "name": "stdout"
        }
      ]
    },
    {
      "cell_type": "markdown",
      "metadata": {
        "id": "ZxscFbmrauei"
      },
      "source": [
        "#커널 기법을 사용한 회귀(SVR)"
      ]
    },
    {
      "cell_type": "code",
      "metadata": {
        "colab": {
          "base_uri": "https://localhost:8080/"
        },
        "id": "gZilYNDYSjBj",
        "outputId": "57caa9c1-ebc2-4ee9-c98e-af1835943f5c"
      },
      "source": [
        "X, y = load_breast_cancer(return_X_y=True)\r\n",
        "X_train, X_test, y_train, y_test = train_test_split(X, y, random_state=100)\r\n",
        "\r\n",
        "model = SVR(kernel='linear')\r\n",
        "model.fit(X_train, y_train)\r\n",
        "print(f'Kernel(linear) 학습 데이터 점수 : {model.score(X_train, y_train)}')\r\n",
        "print(f'Kernel(linear) 평가 데이터 점수 : {model.score(X_test, y_test)}')\r\n",
        "\r\n",
        "model = SVR(kernel='poly')\r\n",
        "model.fit(X_train, y_train)\r\n",
        "print(f'Kernel(poly) 학습 데이터 점수 : {model.score(X_train, y_train)}')\r\n",
        "print(f'Kernel(poly) 평가 데이터 점수 : {model.score(X_test, y_test)}')\r\n",
        "\r\n",
        "model = SVR(kernel='rbf')\r\n",
        "model.fit(X_train, y_train)\r\n",
        "print(f'Kernel(rbf) 학습 데이터 점수 : {model.score(X_train, y_train)}')\r\n",
        "print(f'Kernel(rbf) 평가 데이터 점수 : {model.score(X_test, y_test)}')"
      ],
      "execution_count": 21,
      "outputs": [
        {
          "output_type": "stream",
          "text": [
            "Kernel(linear) 학습 데이터 점수 : 0.03802655646879849\n",
            "Kernel(linear) 평가 데이터 점수 : -0.3713917398572226\n",
            "Kernel(poly) 학습 데이터 점수 : 0.534605054113696\n",
            "Kernel(poly) 평가 데이터 점수 : 0.49088654224416595\n",
            "Kernel(rbf) 학습 데이터 점수 : 0.6989472576091474\n",
            "Kernel(rbf) 평가 데이터 점수 : 0.8200940871148296\n"
          ],
          "name": "stdout"
        }
      ]
    },
    {
      "cell_type": "markdown",
      "metadata": {
        "id": "uYO9m4laTHOM"
      },
      "source": [
        "# SVM 매개변수\r\n",
        " * SVM 커널에 따라 다양한 매개변수 설정이 가능\r\n",
        " * 주로 사용하는 매개변수\r\n",
        "  * kernel: 사용할 커널 기법\r\n",
        "  * C: 하드 마진과 소프트 마진을 결정\r\n",
        "    * C를 낮게 설정-> 이상치 허용-> 과속적합\r\n",
        "    * C를 높게 설정-> 이상치 없음-> 과대적합 \r\n",
        "  * gamma: 유사도 특성과 관련\r\n"
      ]
    },
    {
      "cell_type": "code",
      "metadata": {
        "colab": {
          "base_uri": "https://localhost:8080/"
        },
        "id": "pXqJAAEOTjsW",
        "outputId": "69083841-9b9f-4d4a-e33a-1838c494147c"
      },
      "source": [
        "X, y = load_breast_cancer(return_X_y=True)\r\n",
        "X_train, X_test, y_train, y_test = train_test_split(X, y, random_state=100)\r\n",
        "\r\n",
        "model = SVC(kernel='poly', degree=2, gamma='auto', C=0.5)\r\n",
        "model.fit(X_train, y_train)\r\n",
        "\r\n",
        "print(f'Kernel(poly) 학습 데이터 점수 : {model.score(X_train, y_train)}')\r\n",
        "print(f'Kernel(poly) 평가 데이터 점수 : {model.score(X_test, y_test)}')"
      ],
      "execution_count": 23,
      "outputs": [
        {
          "output_type": "stream",
          "text": [
            "Kernel(poly) 학습 데이터 점수 : 0.9741784037558685\n",
            "Kernel(poly) 평가 데이터 점수 : 0.951048951048951\n"
          ],
          "name": "stdout"
        }
      ]
    },
    {
      "cell_type": "code",
      "metadata": {
        "colab": {
          "base_uri": "https://localhost:8080/"
        },
        "id": "u3o0BFWwVU7d",
        "outputId": "47934750-7ad8-4e7f-923e-122d0c648389"
      },
      "source": [
        "X, y = load_breast_cancer(return_X_y=True)\r\n",
        "X_train, X_test, y_train, y_test = train_test_split(X, y, random_state=100)\r\n",
        "\r\n",
        "model = SVC(kernel='rbf', degree=2, gamma='auto', C=2)\r\n",
        "model.fit(X_train, y_train)\r\n",
        "\r\n",
        "print(f'Kernel(rbf) 학습 데이터 점수 : {model.score(X_train, y_train)}')\r\n",
        "print(f'Kernel(rbf) 평가 데이터 점수 : {model.score(X_test, y_test)}')"
      ],
      "execution_count": 25,
      "outputs": [
        {
          "output_type": "stream",
          "text": [
            "Kernel(rbf) 학습 데이터 점수 : 1.0\n",
            "Kernel(rbf) 평가 데이터 점수 : 0.6083916083916084\n"
          ],
          "name": "stdout"
        }
      ]
    },
    {
      "cell_type": "markdown",
      "metadata": {
        "id": "eu9xaQBuV9Ag"
      },
      "source": [
        "# 간단한(아주 간단한) 데이터 전처리"
      ]
    },
    {
      "cell_type": "code",
      "metadata": {
        "colab": {
          "base_uri": "https://localhost:8080/"
        },
        "id": "WIJnJIpnWAg3",
        "outputId": "96c69e8d-c9d8-4738-ec48-97eb08bdb4f7"
      },
      "source": [
        "X, y = load_breast_cancer(return_X_y=True)\r\n",
        "X_train, X_test, y_train, y_test = train_test_split(X, y, random_state=100)\r\n",
        "\r\n",
        "model = SVC(kernel='rbf')\r\n",
        "model.fit(X_train, y_train)\r\n",
        "\r\n",
        "print(f'Kernel(rbf) 학습 데이터 점수 : {model.score(X_train, y_train)}')\r\n",
        "print(f'Kernel(rbf) 평가 데이터 점수 : {model.score(X_test, y_test)}')"
      ],
      "execution_count": 26,
      "outputs": [
        {
          "output_type": "stream",
          "text": [
            "Kernel(rbf) 학습 데이터 점수 : 0.8943661971830986\n",
            "Kernel(rbf) 평가 데이터 점수 : 0.9440559440559441\n"
          ],
          "name": "stdout"
        }
      ]
    },
    {
      "cell_type": "code",
      "metadata": {
        "colab": {
          "base_uri": "https://localhost:8080/"
        },
        "id": "F5067bEGWEi6",
        "outputId": "6e84fa9e-8590-482f-93b7-d555ed51c190"
      },
      "source": [
        "from sklearn.preprocessing import StandardScaler, MinMaxScaler\r\n",
        "\r\n",
        "X, y = load_breast_cancer(return_X_y=True)\r\n",
        "X_train, X_test, y_train, y_test = train_test_split(X, y, random_state=100)\r\n",
        "\r\n",
        "scaler = StandardScaler()\r\n",
        "X_train = scaler.fit_transform(X_train)\r\n",
        "X_test = scaler.fit_transform(X_test)\r\n",
        "\r\n",
        "model = SVC(kernel='rbf')\r\n",
        "model.fit(X_train, y_train)\r\n",
        "\r\n",
        "print(f'Kernel(rbf) 학습 데이터 점수 : {model.score(X_train, y_train)}')\r\n",
        "print(f'Kernel(rbf) 평가 데이터 점수 : {model.score(X_test, y_test)}')"
      ],
      "execution_count": 29,
      "outputs": [
        {
          "output_type": "stream",
          "text": [
            "Kernel(rbf) 학습 데이터 점수 : 0.9882629107981221\n",
            "Kernel(rbf) 평가 데이터 점수 : 0.951048951048951\n"
          ],
          "name": "stdout"
        }
      ]
    }
  ]
}