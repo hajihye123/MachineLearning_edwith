{
  "nbformat": 4,
  "nbformat_minor": 0,
  "metadata": {
    "colab": {
      "name": "선형분류실습.ipynb",
      "provenance": [],
      "collapsed_sections": [],
      "authorship_tag": "ABX9TyM9lE3YCVlMd1mLgEljBCj0",
      "include_colab_link": true
    },
    "kernelspec": {
      "name": "python3",
      "display_name": "Python 3"
    }
  },
  "cells": [
    {
      "cell_type": "markdown",
      "metadata": {
        "id": "view-in-github",
        "colab_type": "text"
      },
      "source": [
        "<a href=\"https://colab.research.google.com/github/hajihye123/MachineLearning_edwith/blob/main/4_%EC%84%A0%ED%98%95%EB%B6%84%EB%A5%98.ipynb\" target=\"_parent\"><img src=\"https://colab.research.google.com/assets/colab-badge.svg\" alt=\"Open In Colab\"/></a>"
      ]
    },
    {
      "cell_type": "markdown",
      "metadata": {
        "id": "N_9lWaFVOC2m"
      },
      "source": [
        "# 손으로 쓴 숫자 이미지(MNIST)\r\n",
        "\r\n",
        "* TPE\r\n",
        "    * T : 숫자를 분류\r\n",
        "    * P : 정확도\r\n",
        "    * E : 손으로 숫자 이미지(MNIST)\r\n",
        "\r\n",
        "* 분류 순서\r\n",
        "  - 1. 데이터를 불러온다.\r\n",
        "  - 2. 데이터를 확인한다(시각화!).\r\n",
        "  - 3. 데이터를 전처리한다.\r\n",
        "  - 4. 머신러닝 알고리즘에 적합하도록 데이터를 준비한다.\r\n",
        "  - 5. 머신러닝 알고리즘을 적용한다.\r\n",
        "  - 6. 머신러닝 알고리즘을 평가한다.\r\n",
        "  - 7. 머신러닝 알고리즘을 개선한다.\r\n",
        "  - 8. 원하는 결과가 나올 때까지 1~7을 반복한다."
      ]
    },
    {
      "cell_type": "markdown",
      "metadata": {
        "id": "1wq9ISceg_5r"
      },
      "source": [
        "# Digits를 사용해서 선형 분류를 진행"
      ]
    },
    {
      "cell_type": "code",
      "metadata": {
        "id": "sw3cPo2ehELC"
      },
      "source": [
        "# 데이터를 불러온다.\r\n",
        "from sklearn.datasets import load_digits\r\n",
        "digits = load_digits()"
      ],
      "execution_count": 2,
      "outputs": []
    },
    {
      "cell_type": "code",
      "metadata": {
        "colab": {
          "base_uri": "https://localhost:8080/"
        },
        "id": "800dApN4hNTY",
        "outputId": "3e83f3eb-9b2f-4657-a38f-b414f9cc2e62"
      },
      "source": [
        "# 데이터를 확인한다(시각화!).\r\n",
        "print(f'Image Data Shape: {digits.data.shape}') # 이미지 1797장, 8*8 픽셀\r\n",
        "print(f'Image Label Shape: {digits.target.shape}')"
      ],
      "execution_count": 3,
      "outputs": [
        {
          "output_type": "stream",
          "text": [
            "Image Data Shape: (1797, 64)\n",
            "Image Label Shape: (1797,)\n"
          ],
          "name": "stdout"
        }
      ]
    },
    {
      "cell_type": "code",
      "metadata": {
        "colab": {
          "base_uri": "https://localhost:8080/",
          "height": 195
        },
        "id": "PzF0GJrxPIjJ",
        "outputId": "e81a6694-faa0-467c-eaf5-99ddfe59f439"
      },
      "source": [
        "# 데이터를 확인하자(시각화)\r\n",
        "import matplotlib.pyplot as plt\r\n",
        "import numpy as np\r\n",
        "\r\n",
        "plt.figure(figsize=(20,4)) # 이미지 사이즈\r\n",
        "for index, (image, label) in enumerate(zip(digits.data[0:5], digits.target[0:5])):\r\n",
        "  plt.subplot(1, 5, index + 1) # 1행 5열\r\n",
        "  plt.imshow(np.reshape(image, (8,8)), cmap=plt.cm.gray) # 이미지 출력, 8*8=64\r\n",
        "  plt.title(f'Training: {label}', fontsize=20)"
      ],
      "execution_count": 4,
      "outputs": [
        {
          "output_type": "display_data",
          "data": {
            "image/png": "[encoded data removed]",
            "text/plain": [
              "<Figure size 1440x288 with 5 Axes>"
            ]
          },
          "metadata": {
            "tags": [],
            "needs_background": "light"
          }
        }
      ]
    },
    {
      "cell_type": "code",
      "metadata": {
        "id": "jlgcY1HzRreT"
      },
      "source": [
        "# 데이터를 전처리한다. -> scikit-learn에서 제공하는 데이터는 전처리가 이미 되어있음"
      ],
      "execution_count": null,
      "outputs": []
    },
    {
      "cell_type": "code",
      "metadata": {
        "colab": {
          "base_uri": "https://localhost:8080/"
        },
        "id": "zBu47GNcRvy-",
        "outputId": "30f2ccc7-b80f-4eb1-95e7-59bba50ace8c"
      },
      "source": [
        "# 머신러닝 알고리즘에 적합하도록 데이터를 준비한다.\r\n",
        "from sklearn.model_selection import train_test_split\r\n",
        "X_train, X_test, y_train, y_test = train_test_split(digits.data, digits.target, test_size=0.3, random_state=82)\r\n",
        "print(f'X_train shape: {X_train.shape}')\r\n",
        "print(f'X_test shape: {X_test.shape}')\r\n",
        "print(f'y_train shape: {y_train.shape}')\r\n",
        "print(f'y_test shape: {y_test.shape}')"
      ],
      "execution_count": 5,
      "outputs": [
        {
          "output_type": "stream",
          "text": [
            "X_train shape: (1257, 64)\n",
            "X_test shape: (540, 64)\n",
            "y_train shape: (1257,)\n",
            "y_test shape: (540,)\n"
          ],
          "name": "stdout"
        }
      ]
    },
    {
      "cell_type": "code",
      "metadata": {
        "colab": {
          "base_uri": "https://localhost:8080/"
        },
        "id": "YdR1H0xRSQMp",
        "outputId": "03b2ad00-af28-4a56-fb73-9fce06b85cbc"
      },
      "source": [
        "# 머신러닝 알고리즘을 적용한다.\r\n",
        "from sklearn.linear_model import LogisticRegression\r\n",
        "model = LogisticRegression(max_iter=5000) # 5000번 반복\r\n",
        "model.fit(X_train, y_train)"
      ],
      "execution_count": 10,
      "outputs": [
        {
          "output_type": "execute_result",
          "data": {
            "text/plain": [
              "LogisticRegression(C=1.0, class_weight=None, dual=False, fit_intercept=True,\n",
              "                   intercept_scaling=1, l1_ratio=None, max_iter=5000,\n",
              "                   multi_class='auto', n_jobs=None, penalty='l2',\n",
              "                   random_state=None, solver='lbfgs', tol=0.0001, verbose=0,\n",
              "                   warm_start=False)"
            ]
          },
          "metadata": {
            "tags": []
          },
          "execution_count": 10
        }
      ]
    },
    {
      "cell_type": "code",
      "metadata": {
        "colab": {
          "base_uri": "https://localhost:8080/"
        },
        "id": "taR_n9ZYUpSB",
        "outputId": "0b19180a-4f1d-4678-ea67-699dbceaf3e1"
      },
      "source": [
        "# 머신러닝 알고리즘을 평가한다.\r\n",
        "model.predict(X_test[0].reshape(1,-1)) # reshape: 차원 변경"
      ],
      "execution_count": 11,
      "outputs": [
        {
          "output_type": "execute_result",
          "data": {
            "text/plain": [
              "array([2])"
            ]
          },
          "metadata": {
            "tags": []
          },
          "execution_count": 11
        }
      ]
    },
    {
      "cell_type": "code",
      "metadata": {
        "colab": {
          "base_uri": "https://localhost:8080/",
          "height": 283
        },
        "id": "mS3Pow0RPVNd",
        "outputId": "bf2e397f-71f1-445a-abc1-3cac5da85ea9"
      },
      "source": [
        "  plt.imshow(np.reshape(X_test[0], (8,8)), cmap=plt.cm.gray) # 이미지 출력, 8*8=64"
      ],
      "execution_count": 12,
      "outputs": [
        {
          "output_type": "execute_result",
          "data": {
            "text/plain": [
              "<matplotlib.image.AxesImage at 0x7ff9796e8358>"
            ]
          },
          "metadata": {
            "tags": []
          },
          "execution_count": 12
        },
        {
          "output_type": "display_data",
          "data": {
            "image/png": "[encoded data removed]",
            "text/plain": [
              "<Figure size 432x288 with 1 Axes>"
            ]
          },
          "metadata": {
            "tags": [],
            "needs_background": "light"
          }
        }
      ]
    },
    {
      "cell_type": "code",
      "metadata": {
        "colab": {
          "base_uri": "https://localhost:8080/"
        },
        "id": "LBA1WyrAeToF",
        "outputId": "1847c914-3544-4a5f-a6a6-d18763b7ca0d"
      },
      "source": [
        "score = model.score(X_test, y_test)\r\n",
        "print(f'score: {score}') # 정확도 출력"
      ],
      "execution_count": 13,
      "outputs": [
        {
          "output_type": "stream",
          "text": [
            "score: 0.9574074074074074\n"
          ],
          "name": "stdout"
        }
      ]
    },
    {
      "cell_type": "markdown",
      "metadata": {
        "id": "4ur6DdfFk2TS"
      },
      "source": [
        "## MNIST를 사용해서 선형 분류를 진행"
      ]
    },
    {
      "cell_type": "code",
      "metadata": {
        "id": "HinHnm23k9Rs"
      },
      "source": [
        "from sklearn.datasets import fetch_openml\r\n",
        "mnist = fetch_openml('mnist_784') # openml에서 파일 다운로드"
      ],
      "execution_count": 14,
      "outputs": []
    },
    {
      "cell_type": "code",
      "metadata": {
        "colab": {
          "base_uri": "https://localhost:8080/"
        },
        "id": "b7RJLlJrlNH7",
        "outputId": "b58c8afc-625b-411a-932e-81f7e5fb9dec"
      },
      "source": [
        "print(mnist.url)\r\n",
        "print(f'Image Data Shape: {mnist.data.shape}') # 784 = 28 * 28\r\n",
        "print(f'Image Label Shape: {mnist.target.shape}')"
      ],
      "execution_count": 16,
      "outputs": [
        {
          "output_type": "stream",
          "text": [
            "https://www.openml.org/d/554\n",
            "Image Data Shape: (70000, 784)\n",
            "Image Label Shape: (70000,)\n"
          ],
          "name": "stdout"
        }
      ]
    },
    {
      "cell_type": "code",
      "metadata": {
        "colab": {
          "base_uri": "https://localhost:8080/",
          "height": 194
        },
        "id": "6AlxS0Y-llEy",
        "outputId": "90fb61ca-2817-42ad-82fa-1025de9f75fd"
      },
      "source": [
        "# 데이터를 확인하자(시각화)\r\n",
        "import matplotlib.pyplot as plt\r\n",
        "import numpy as np\r\n",
        "\r\n",
        "plt.figure(figsize=(20,4)) # 이미지 사이즈\r\n",
        "for index, (image, label) in enumerate(zip(mnist.data[0:5], mnist.target[0:5])):\r\n",
        "  plt.subplot(1, 5, index + 1) # 1행 5열\r\n",
        "  plt.imshow(np.reshape(image, (28,28)), cmap=plt.cm.gray) # 이미지 출력, 크기 28 * 28\r\n",
        "  plt.title(f'Training: {label}', fontsize=20)"
      ],
      "execution_count": 18,
      "outputs": [
        {
          "output_type": "display_data",
          "data": {
            "image/png": "[encoded data removed]",
            "text/plain": [
              "<Figure size 1440x288 with 5 Axes>"
            ]
          },
          "metadata": {
            "tags": [],
            "needs_background": "light"
          }
        }
      ]
    },
    {
      "cell_type": "code",
      "metadata": {
        "id": "IzWNgF9Ql3LS"
      },
      "source": [
        "# 머신러닝 알고리즘에 적합하도록 데이터를 준비한다.\r\n",
        "from sklearn.model_selection import train_test_split\r\n",
        "X_train, X_test, y_train, y_test = train_test_split(mnist.data, mnist.target, test_size=0.3, random_state=82)"
      ],
      "execution_count": 19,
      "outputs": []
    },
    {
      "cell_type": "code",
      "metadata": {
        "colab": {
          "base_uri": "https://localhost:8080/"
        },
        "id": "D508MMpAl9zF",
        "outputId": "f3e9cf5d-5b0e-486d-b0b0-01bf804c21d9"
      },
      "source": [
        "# 머신러닝 알고리즘을 적용한다.\r\n",
        "from sklearn.linear_model import LogisticRegression\r\n",
        "model = LogisticRegression(max_iter=5000) # 5000번 반복... 7만개 5000번은 부족함\r\n",
        "model.fit(X_train, y_train)"
      ],
      "execution_count": 20,
      "outputs": [
        {
          "output_type": "stream",
          "text": [
            "/usr/local/lib/python3.6/dist-packages/sklearn/linear_model/_logistic.py:940: ConvergenceWarning: lbfgs failed to converge (status=1):\n",
            "STOP: TOTAL NO. of ITERATIONS REACHED LIMIT.\n",
            "\n",
            "Increase the number of iterations (max_iter) or scale the data as shown in:\n",
            "    https://scikit-learn.org/stable/modules/preprocessing.html\n",
            "Please also refer to the documentation for alternative solver options:\n",
            "    https://scikit-learn.org/stable/modules/linear_model.html#logistic-regression\n",
            "  extra_warning_msg=_LOGISTIC_SOLVER_CONVERGENCE_MSG)\n"
          ],
          "name": "stderr"
        },
        {
          "output_type": "execute_result",
          "data": {
            "text/plain": [
              "LogisticRegression(C=1.0, class_weight=None, dual=False, fit_intercept=True,\n",
              "                   intercept_scaling=1, l1_ratio=None, max_iter=5000,\n",
              "                   multi_class='auto', n_jobs=None, penalty='l2',\n",
              "                   random_state=None, solver='lbfgs', tol=0.0001, verbose=0,\n",
              "                   warm_start=False)"
            ]
          },
          "metadata": {
            "tags": []
          },
          "execution_count": 20
        }
      ]
    },
    {
      "cell_type": "code",
      "metadata": {
        "colab": {
          "base_uri": "https://localhost:8080/"
        },
        "id": "8m_BW9wwoBN6",
        "outputId": "98d169e7-ffcc-4832-89dd-46116bbfc695"
      },
      "source": [
        "score = model.score(X_test, y_test)\r\n",
        "print(f'score: {score}') # 정확도 출력"
      ],
      "execution_count": 21,
      "outputs": [
        {
          "output_type": "stream",
          "text": [
            "score: 0.9133809523809524\n"
          ],
          "name": "stdout"
        }
      ]
    },
    {
      "cell_type": "code",
      "metadata": {
        "id": "3nu_gZploHhd"
      },
      "source": [
        "predictions = model.predict(X_test)"
      ],
      "execution_count": 22,
      "outputs": []
    },
    {
      "cell_type": "code",
      "metadata": {
        "id": "lECjUWsjoMmW"
      },
      "source": [
        "import numpy as np\r\n",
        "import matplotlib.pyplot as plt\r\n",
        "\r\n",
        "index = 0\r\n",
        "misclassificiedIndexes = []\r\n",
        "for label, predict, in zip(y_test, predictions):\r\n",
        "  if label != predict:\r\n",
        "    misclassificiedIndexes.append(index)\r\n",
        "  index += 1"
      ],
      "execution_count": 24,
      "outputs": []
    },
    {
      "cell_type": "code",
      "metadata": {
        "colab": {
          "base_uri": "https://localhost:8080/",
          "height": 193
        },
        "id": "OYHI4KsyolRW",
        "outputId": "b8250d5e-58b8-405b-e568-72ee99cde023"
      },
      "source": [
        "plt.figure(figsize=(20,4)) # 이미지 사이즈\r\n",
        "for plotIndex, badIndex in enumerate(misclassificiedIndexes[0:5]):\r\n",
        "  plt.subplot(1, 5, plotIndex + 1) # 1행 5열\r\n",
        "  plt.imshow(np.reshape(X_test[badIndex], (28,28)), cmap=plt.cm.gray) # 틀린 이미지 출력\r\n",
        "  plt.title(f'Predicted: {predictions[badIndex]} Actual: {y_test[badIndex]}', fontsize=20)"
      ],
      "execution_count": 26,
      "outputs": [
        {
          "output_type": "display_data",
          "data": {
            "image/png": "[encoded data removed]",
            "text/plain": [
              "<Figure size 1440x288 with 5 Axes>"
            ]
          },
          "metadata": {
            "tags": [],
            "needs_background": "light"
          }
        }
      ]
    }
  ]
}